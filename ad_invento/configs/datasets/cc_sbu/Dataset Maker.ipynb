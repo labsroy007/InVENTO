{
 "cells": [
  {
   "cell_type": "code",
   "execution_count": 1,
   "id": "c70e188e",
   "metadata": {},
   "outputs": [
    {
     "name": "stderr",
     "output_type": "stream",
     "text": [
      "[nltk_data] Downloading package punkt to\n",
      "[nltk_data]     C:\\Users\\Admin\\AppData\\Roaming\\nltk_data...\n",
      "[nltk_data]   Package punkt is already up-to-date!\n",
      "[nltk_data] Downloading package stopwords to\n",
      "[nltk_data]     C:\\Users\\Admin\\AppData\\Roaming\\nltk_data...\n",
      "[nltk_data]   Package stopwords is already up-to-date!\n",
      "[nltk_data] Downloading package wordnet to\n",
      "[nltk_data]     C:\\Users\\Admin\\AppData\\Roaming\\nltk_data...\n",
      "[nltk_data]   Package wordnet is already up-to-date!\n"
     ]
    },
    {
     "data": {
      "text/plain": [
       "True"
      ]
     },
     "execution_count": 1,
     "metadata": {},
     "output_type": "execute_result"
    }
   ],
   "source": [
    "import pandas as pd \n",
    "import cv2\n",
    "import numpy as np\n",
    "import os\n",
    "from glob import glob\n",
    "import math\n",
    "import matplotlib.pyplot as plt\n",
    "import re\n",
    "import html\n",
    "import string\n",
    "import unicodedata\n",
    "from nltk.tokenize import word_tokenize\n",
    "import nltk\n",
    "from nltk.corpus import stopwords\n",
    "from nltk.stem.wordnet import WordNetLemmatizer\n",
    "from sklearn.model_selection import train_test_split\n",
    "\n",
    "import torch\n",
    "nltk.download('punkt')\n",
    "nltk.download('stopwords')\n",
    "stopwords.words('english')\n",
    "nltk.download('wordnet')"
   ]
  },
  {
   "cell_type": "code",
   "execution_count": 2,
   "id": "4d7bd4dc",
   "metadata": {},
   "outputs": [],
   "source": [
    "df_cxr = pd.read_csv(r\"F:\\physionet.org\\files\\mimic-cxr\\2.0.0\\findings_data_8.csv\")"
   ]
  },
  {
   "cell_type": "code",
   "execution_count": 3,
   "id": "b43d26ab",
   "metadata": {},
   "outputs": [
    {
     "data": {
      "text/html": [
       "<div>\n",
       "<style scoped>\n",
       "    .dataframe tbody tr th:only-of-type {\n",
       "        vertical-align: middle;\n",
       "    }\n",
       "\n",
       "    .dataframe tbody tr th {\n",
       "        vertical-align: top;\n",
       "    }\n",
       "\n",
       "    .dataframe thead th {\n",
       "        text-align: right;\n",
       "    }\n",
       "</style>\n",
       "<table border=\"1\" class=\"dataframe\">\n",
       "  <thead>\n",
       "    <tr style=\"text-align: right;\">\n",
       "      <th></th>\n",
       "      <th>DICOM Image Name</th>\n",
       "      <th>Text File Path</th>\n",
       "      <th>Patient ID</th>\n",
       "      <th>Subfolder ID</th>\n",
       "      <th>Findings</th>\n",
       "    </tr>\n",
       "  </thead>\n",
       "  <tbody>\n",
       "    <tr>\n",
       "      <th>0</th>\n",
       "      <td>s50414267\\02aa804e-bde0afdd-112c0b34-7bc16630-...</td>\n",
       "      <td>F:\\physionet.org\\files\\mimic-cxr\\2.0.0\\files\\p...</td>\n",
       "      <td>10000032</td>\n",
       "      <td>s50414267</td>\n",
       "      <td>There is no focal consolidation, pleural effus...</td>\n",
       "    </tr>\n",
       "    <tr>\n",
       "      <th>1</th>\n",
       "      <td>s50414267\\174413ec-4ec4c1f7-34ea26b7-c5f994f8-...</td>\n",
       "      <td>F:\\physionet.org\\files\\mimic-cxr\\2.0.0\\files\\p...</td>\n",
       "      <td>10000032</td>\n",
       "      <td>s50414267</td>\n",
       "      <td>There is no focal consolidation, pleural effus...</td>\n",
       "    </tr>\n",
       "    <tr>\n",
       "      <th>2</th>\n",
       "      <td>s53189527\\2a2277a9-b0ded155-c0de8eb9-c124d10e-...</td>\n",
       "      <td>F:\\physionet.org\\files\\mimic-cxr\\2.0.0\\files\\p...</td>\n",
       "      <td>10000032</td>\n",
       "      <td>s53189527</td>\n",
       "      <td>The cardiac, mediastinal and hilar contours ar...</td>\n",
       "    </tr>\n",
       "    <tr>\n",
       "      <th>3</th>\n",
       "      <td>s53189527\\e084de3b-be89b11e-20fe3f9f-9c8d8dfe-...</td>\n",
       "      <td>F:\\physionet.org\\files\\mimic-cxr\\2.0.0\\files\\p...</td>\n",
       "      <td>10000032</td>\n",
       "      <td>s53189527</td>\n",
       "      <td>The cardiac, mediastinal and hilar contours ar...</td>\n",
       "    </tr>\n",
       "    <tr>\n",
       "      <th>4</th>\n",
       "      <td>s53911762\\68b5c4b1-227d0485-9cc38c3f-7b84ab51-...</td>\n",
       "      <td>F:\\physionet.org\\files\\mimic-cxr\\2.0.0\\files\\p...</td>\n",
       "      <td>10000032</td>\n",
       "      <td>s53911762</td>\n",
       "      <td>Single frontal view of the chest provided.\\n \\...</td>\n",
       "    </tr>\n",
       "  </tbody>\n",
       "</table>\n",
       "</div>"
      ],
      "text/plain": [
       "                                    DICOM Image Name  \\\n",
       "0  s50414267\\02aa804e-bde0afdd-112c0b34-7bc16630-...   \n",
       "1  s50414267\\174413ec-4ec4c1f7-34ea26b7-c5f994f8-...   \n",
       "2  s53189527\\2a2277a9-b0ded155-c0de8eb9-c124d10e-...   \n",
       "3  s53189527\\e084de3b-be89b11e-20fe3f9f-9c8d8dfe-...   \n",
       "4  s53911762\\68b5c4b1-227d0485-9cc38c3f-7b84ab51-...   \n",
       "\n",
       "                                      Text File Path  Patient ID Subfolder ID  \\\n",
       "0  F:\\physionet.org\\files\\mimic-cxr\\2.0.0\\files\\p...    10000032    s50414267   \n",
       "1  F:\\physionet.org\\files\\mimic-cxr\\2.0.0\\files\\p...    10000032    s50414267   \n",
       "2  F:\\physionet.org\\files\\mimic-cxr\\2.0.0\\files\\p...    10000032    s53189527   \n",
       "3  F:\\physionet.org\\files\\mimic-cxr\\2.0.0\\files\\p...    10000032    s53189527   \n",
       "4  F:\\physionet.org\\files\\mimic-cxr\\2.0.0\\files\\p...    10000032    s53911762   \n",
       "\n",
       "                                            Findings  \n",
       "0  There is no focal consolidation, pleural effus...  \n",
       "1  There is no focal consolidation, pleural effus...  \n",
       "2  The cardiac, mediastinal and hilar contours ar...  \n",
       "3  The cardiac, mediastinal and hilar contours ar...  \n",
       "4  Single frontal view of the chest provided.\\n \\...  "
      ]
     },
     "execution_count": 3,
     "metadata": {},
     "output_type": "execute_result"
    }
   ],
   "source": [
    "df_cxr.head()"
   ]
  },
  {
   "cell_type": "code",
   "execution_count": 4,
   "id": "7473b89b",
   "metadata": {},
   "outputs": [
    {
     "data": {
      "text/plain": [
       "'s50414267\\\\02aa804e-bde0afdd-112c0b34-7bc16630-4e384014.dcm'"
      ]
     },
     "execution_count": 4,
     "metadata": {},
     "output_type": "execute_result"
    }
   ],
   "source": [
    "df_cxr['DICOM Image Name'].iloc[0]"
   ]
  },
  {
   "cell_type": "code",
   "execution_count": 5,
   "id": "16a5972a",
   "metadata": {},
   "outputs": [
    {
     "data": {
      "text/plain": [
       "'F:\\\\physionet.org\\\\files\\\\mimic-cxr\\\\2.0.0\\\\files\\\\p10\\\\p10000032\\\\s50414267.txt'"
      ]
     },
     "execution_count": 5,
     "metadata": {},
     "output_type": "execute_result"
    }
   ],
   "source": [
    "df_cxr['Text File Path'].iloc[0]"
   ]
  },
  {
   "cell_type": "code",
   "execution_count": 6,
   "id": "83d4c561",
   "metadata": {},
   "outputs": [],
   "source": [
    "df_cxr['image'] = df_cxr.apply(lambda row: os.path.join(os.path.dirname(row['Text File Path']), row['DICOM Image Name']), axis=1)\n"
   ]
  },
  {
   "cell_type": "code",
   "execution_count": 7,
   "id": "c4a6dca3",
   "metadata": {},
   "outputs": [
    {
     "data": {
      "text/plain": [
       "'F:\\\\physionet.org\\\\files\\\\mimic-cxr\\\\2.0.0\\\\files\\\\p10\\\\p10000032\\\\s50414267\\\\02aa804e-bde0afdd-112c0b34-7bc16630-4e384014.dcm'"
      ]
     },
     "execution_count": 7,
     "metadata": {},
     "output_type": "execute_result"
    }
   ],
   "source": [
    "df_cxr['image'].iloc[0]"
   ]
  },
  {
   "cell_type": "code",
   "execution_count": null,
   "id": "937a2dce",
   "metadata": {},
   "outputs": [],
   "source": [
    "df_cxr.dropna(inplace=True)"
   ]
  },
  {
   "cell_type": "code",
   "execution_count": 18,
   "id": "ea6e9b29",
   "metadata": {},
   "outputs": [],
   "source": [
    "def remove_chars(text):\n",
    "    try : \n",
    "        text = re.sub(r'\\b(?:\\d+|\\w)\\b\\s*', '', text)\n",
    "    except Exception as e:\n",
    "        print(text)\n",
    "    re1 = re.compile(r'  +')\n",
    "    x1 = text.lower().replace('#39;', \"'\").replace('amp;', '&').replace('#146;', \"'\").replace(\n",
    "        'nbsp;', ' ').replace('#36;', '$').replace('\\\\n', \"\\n\").replace('quot;', \"'\").replace(\n",
    "        '<br />', \"\\n\").replace('\\\\\"', '\"').replace('<unk>', 'u_n').replace(' @.@ ', '.').replace(\n",
    "        ' @-@ ', '-').replace('\\\\', ' \\\\ ')\n",
    "    return re1.sub(' ', html.unescape(x1))\n",
    "\n",
    "def clean_Mimic(text):\n",
    "    cleaned_item = re.sub(r'[-/)\\\\;(//:,_.\\?]', ' ', text)\n",
    "    cleaned_item = re.sub(r'[^a-zA-Z0-9\\s]', '', cleaned_item).lower()\n",
    "    cleaned_item = re.sub(r'[^a-zA-Z\\s]', '', cleaned_item).lower()\n",
    "\n",
    "    cleaned_item = ' '.join(cleaned_item.split())  # Remove extra spaces\n",
    "    return cleaned_item\n",
    "\n",
    "def clean_x(text):\n",
    "    cleaned_text = re.sub(r'x{3,}', '', text)\n",
    "    return cleaned_text\n",
    "\n",
    "def remove_non_ascii(text):\n",
    "\n",
    "    return unicodedata.normalize('NFKD', text).encode('ascii', 'ignore').decode('utf-8', 'ignore')\n",
    "\n",
    "\n",
    "def to_lowercase(text):\n",
    "    return text.lower()\n",
    "\n",
    "def remove_punctuation(text):\n",
    " \n",
    "    translator = str.maketrans('', '', string.punctuation)\n",
    "    return text.translate(translator)\n",
    "\n",
    "\n",
    "def replace_numbers(text):\n",
    "\n",
    "    return re.sub(r'\\d+', '', text)\n",
    "\n",
    "\n",
    "def remove_whitespaces(text):\n",
    "    return text.strip()\n",
    "\n",
    "\n",
    "def remove_stopwords(words, stop_words):\n",
    "\n",
    "    return [word for word in words if word not in stop_words]\n",
    "\n",
    "\n",
    "def stem_words(words):\n",
    " \n",
    "    stemmer = PorterStemmer()\n",
    "    return [stemmer.stem(word) for word in words]\n",
    "\n",
    "def lemmatize_words(words):\n",
    "\n",
    "    lemmatizer = WordNetLemmatizer()\n",
    "    return [lemmatizer.lemmatize(word) for word in words]\n",
    "\n",
    "def lemmatize_verbs(words):\n",
    "\n",
    "    lemmatizer = WordNetLemmatizer()\n",
    "    return ' '.join([lemmatizer.lemmatize(word, pos='v') for word in words])\n",
    "\n",
    "def text2words(text):\n",
    "    return word_tokenize(text)\n",
    "\n",
    "def normalize_text( text):\n",
    "    text = remove_chars(text)\n",
    "    text = clean_x(text)\n",
    "    text = clean_Mimic(text)\n",
    "    text = remove_non_ascii(text)\n",
    "#     text = remove_punctuation(text)\n",
    "    text = to_lowercase(text)\n",
    "    text = replace_numbers(text)\n",
    "    words = text2words(text)\n",
    "    stop_words = stopwords.words('english')\n",
    "    words = remove_stopwords(words, stop_words)\n",
    "    #words = stem_words(words)# Either stem ovocar lemmatize\n",
    "    words = lemmatize_words(words)\n",
    "    words = lemmatize_verbs(words)\n",
    "#     print(words)\n",
    "\n",
    "    return words\n",
    "  \n",
    "def normalize_corpus(corpus):\n",
    "    return [normalize_text(t) for t in corpus]"
   ]
  },
  {
   "cell_type": "code",
   "execution_count": 19,
   "id": "6b2bea4c",
   "metadata": {
    "scrolled": true
   },
   "outputs": [],
   "source": [
    "import re\n",
    "\n",
    "# df_clean['Findings'] = df_clean['Findings'].apply(lambda x: re.sub(r'\\n+', '\\n', x).strip())\n",
    "df_cxr['Findings'] = df_cxr['Findings'].apply(lambda x: normalize_text(x))"
   ]
  },
  {
   "cell_type": "code",
   "execution_count": 20,
   "id": "2599cf2b",
   "metadata": {},
   "outputs": [
    {
     "data": {
      "text/plain": [
       "'focal consolidation pleural effusion pneumothorax bilateral nodular opacity likely represent nipple shadow cardiomediastinal silhouette normal clip project leave lung potentially within breast image upper abdomen unremarkable chronic deformity posterior leave sixth seventh rib note impression acute cardiopulmonary process'"
      ]
     },
     "execution_count": 20,
     "metadata": {},
     "output_type": "execute_result"
    }
   ],
   "source": [
    "df_cxr['Findings'].iloc[0]"
   ]
  },
  {
   "cell_type": "code",
   "execution_count": null,
   "id": "430d3e8e",
   "metadata": {},
   "outputs": [],
   "source": []
  },
  {
   "cell_type": "code",
   "execution_count": 26,
   "id": "da8da68e",
   "metadata": {
    "scrolled": true
   },
   "outputs": [],
   "source": [
    "annotations_list = []\n",
    "\n",
    "for index, row in df_cxr.iterrows():\n",
    "    annotation = {\n",
    "        'image_id': row['image'],\n",
    "        'caption': row['Findings']\n",
    "    }\n",
    "    annotations_list.append(annotation)\n",
    "\n",
    "result_dict = {\n",
    "    \"annotations\": annotations_list\n",
    "}"
   ]
  },
  {
   "cell_type": "code",
   "execution_count": 28,
   "id": "d388169d",
   "metadata": {
    "scrolled": true
   },
   "outputs": [
    {
     "data": {
      "text/plain": [
       "1"
      ]
     },
     "execution_count": 28,
     "metadata": {},
     "output_type": "execute_result"
    }
   ],
   "source": [
    "len(result_dict)"
   ]
  },
  {
   "cell_type": "code",
   "execution_count": 31,
   "id": "0b269c38",
   "metadata": {
    "scrolled": true
   },
   "outputs": [
    {
     "name": "stdout",
     "output_type": "stream",
     "text": [
      "JSON data saved to output_annotations.json\n"
     ]
    }
   ],
   "source": [
    "import json\n",
    "output_json_path = \"output_annotations.json\"\n",
    "\n",
    "# Save the result_dict as a JSON file\n",
    "with open(output_json_path, \"w\") as json_file:\n",
    "    json.dump(result_dict, json_file)\n",
    "\n",
    "print(f\"JSON data saved to {output_json_path}\")"
   ]
  },
  {
   "cell_type": "code",
   "execution_count": null,
   "id": "058a92c9",
   "metadata": {},
   "outputs": [],
   "source": []
  },
  {
   "cell_type": "code",
   "execution_count": null,
   "id": "7e776a2a",
   "metadata": {},
   "outputs": [],
   "source": []
  },
  {
   "cell_type": "markdown",
   "id": "1aba6612",
   "metadata": {},
   "source": [
    "# IU Part -2"
   ]
  },
  {
   "cell_type": "code",
   "execution_count": 51,
   "id": "512776f3",
   "metadata": {},
   "outputs": [
    {
     "name": "stderr",
     "output_type": "stream",
     "text": [
      "[nltk_data] Downloading package punkt to\n",
      "[nltk_data]     C:\\Users\\Admin\\AppData\\Roaming\\nltk_data...\n",
      "[nltk_data]   Package punkt is already up-to-date!\n",
      "[nltk_data] Downloading package stopwords to\n",
      "[nltk_data]     C:\\Users\\Admin\\AppData\\Roaming\\nltk_data...\n",
      "[nltk_data]   Package stopwords is already up-to-date!\n",
      "[nltk_data] Downloading package wordnet to\n",
      "[nltk_data]     C:\\Users\\Admin\\AppData\\Roaming\\nltk_data...\n",
      "[nltk_data]   Package wordnet is already up-to-date!\n"
     ]
    }
   ],
   "source": [
    "import pandas as pd \n",
    "import cv2\n",
    "import numpy as np\n",
    "import os\n",
    "from glob import glob\n",
    "import math\n",
    "import matplotlib.pyplot as plt\n",
    "import re\n",
    "import html\n",
    "import string\n",
    "import unicodedata\n",
    "from nltk.tokenize import word_tokenize\n",
    "import nltk\n",
    "from nltk.corpus import stopwords\n",
    "from nltk.stem.wordnet import WordNetLemmatizer\n",
    "from sklearn.model_selection import train_test_split\n",
    "\n",
    "import torch\n",
    "nltk.download('punkt')\n",
    "nltk.download('stopwords')\n",
    "stopwords.words('english')\n",
    "nltk.download('wordnet')\n",
    "\n",
    "df2 = pd.read_csv(r\"F:\\Data_kaggle\\indiana_projections.csv\")\n",
    "df1 = pd.read_csv(r\"F:\\Data_kaggle\\indiana_reports.csv\")\n",
    "\n",
    "images_captions_df = pd.DataFrame({'image': [],\n",
    "                                    'caption': []})\n",
    "for i in range(len(df2)):\n",
    "    uid = df2.iloc[i]['uid']\n",
    "    image = df2.iloc[i]['filename']\n",
    "    index = df1.loc[df1['uid'] ==uid]\n",
    "    \n",
    "    if not index.empty:    \n",
    "        index = index.index[0]\n",
    "        caption = df1.iloc[index]['findings']\n",
    "        if type(caption) == float:\n",
    "         \n",
    "            continue \n",
    "        images_captions_df = pd.concat([images_captions_df, pd.DataFrame([{'image': image, 'caption': caption}])], ignore_index=True)\n",
    "\n",
    "\n",
    "images_captions_df = pd.DataFrame({'uid':[], 'image': [],\n",
    "                                    'caption': [], 'projection':[]})\n",
    "for i in range(len(df2)):\n",
    "    uid = df2.iloc[i]['uid']\n",
    "    image = df2.iloc[i]['filename']\n",
    "    projection = df2.iloc[i]['projection']\n",
    "    uid = int(df2.iloc[i]['uid'])\n",
    "    index = df1.loc[df1['uid'] ==uid]\n",
    "    \n",
    "    if not index.empty:    \n",
    "        index = index.index[0]\n",
    "        caption = str(df1.iloc[index]['findings'])+str(df1.iloc[index]['impression'])\n",
    "        if type(caption) == float:\n",
    "         \n",
    "            continue \n",
    "        images_captions_df = pd.concat([images_captions_df, pd.DataFrame([{'uid':uid, 'image': image, 'caption': caption, 'projection':projection }])], ignore_index=True)\n"
   ]
  },
  {
   "cell_type": "code",
   "execution_count": 52,
   "id": "787285f5",
   "metadata": {},
   "outputs": [],
   "source": [
    "def remove_chars(text):\n",
    "    try : \n",
    "        text = re.sub(r'\\b(?:\\d+|\\w)\\b\\s*', '', text)\n",
    "    except Exception as e:\n",
    "        print(text)\n",
    "    re1 = re.compile(r'  +')\n",
    "    x1 = text.lower().replace('#39;', \"'\").replace('amp;', '&').replace('#146;', \"'\").replace(\n",
    "        'nbsp;', ' ').replace('#36;', '$').replace('\\\\n', \"\\n\").replace('quot;', \"'\").replace(\n",
    "        '<br />', \"\\n\").replace('\\\\\"', '\"').replace('<unk>', 'u_n').replace(' @.@ ', '.').replace(\n",
    "        ' @-@ ', '-').replace('\\\\', ' \\\\ ')\n",
    "    return re1.sub(' ', html.unescape(x1))\n",
    "\n",
    "def clean_Mimic(text):\n",
    "    cleaned_item = re.sub(r'[-/)\\\\;(//:,_.\\?]', ' ', text)\n",
    "    cleaned_item = re.sub(r'[^a-zA-Z0-9\\s]', '', cleaned_item).lower()\n",
    "    cleaned_item = re.sub(r'[^a-zA-Z\\s]', '', cleaned_item).lower()\n",
    "\n",
    "    cleaned_item = ' '.join(cleaned_item.split())  # Remove extra spaces\n",
    "    words_to_remove = ['there', 'is', 'are', 'of', 'and', 'the']\n",
    "    cleaned_text = ' '.join([word for word in cleaned_item.split() if word.lower() not in words_to_remove])\n",
    "\n",
    "    # Remove extra spaces\n",
    "    cleaned_text = ' '.join(cleaned_text.split())\n",
    "    return cleaned_text\n",
    "\n",
    "def clean_x(text):\n",
    "    cleaned_text = re.sub(r'x{3,}', '', text)\n",
    "    return cleaned_text\n",
    "\n",
    "def remove_non_ascii(text):\n",
    "\n",
    "    return unicodedata.normalize('NFKD', text).encode('ascii', 'ignore').decode('utf-8', 'ignore')\n",
    "\n",
    "\n",
    "def to_lowercase(text):\n",
    "    return text.lower()\n",
    "\n",
    "def remove_punctuation(text):\n",
    " \n",
    "    translator = str.maketrans('', '', string.punctuation)\n",
    "    return text.translate(translator)\n",
    "\n",
    "\n",
    "def replace_numbers(text):\n",
    "\n",
    "    return re.sub(r'\\d+', '', text)\n",
    "\n",
    "\n",
    "def remove_whitespaces(text):\n",
    "    return text.strip()\n",
    "\n",
    "\n",
    "def remove_stopwords(words, stop_words):\n",
    "\n",
    "    return [word for word in words if word not in stop_words]\n",
    "\n",
    "\n",
    "def stem_words(words):\n",
    " \n",
    "    stemmer = PorterStemmer()\n",
    "    return [stemmer.stem(word) for word in words]\n",
    "\n",
    "def lemmatize_words(words):\n",
    "\n",
    "    lemmatizer = WordNetLemmatizer()\n",
    "    return [lemmatizer.lemmatize(word) for word in words]\n",
    "\n",
    "def lemmatize_verbs(words):\n",
    "\n",
    "    lemmatizer = WordNetLemmatizer()\n",
    "    return ' '.join([lemmatizer.lemmatize(word, pos='v') for word in words])\n",
    "\n",
    "def text2words(text):\n",
    "    return word_tokenize(text)\n",
    "\n",
    "def normalize_text( text):\n",
    "    text = remove_chars(text)\n",
    "    text = clean_x(text)\n",
    "    text = clean_Mimic(text)\n",
    "#     text = remove_non_ascii(text)\n",
    "#     text = remove_punctuation(text)\n",
    "    text = to_lowercase(text)\n",
    "#     text = replace_numbers(text)\n",
    "#     words = text2words(text)\n",
    "#     stop_words = stopwords.words('english')\n",
    "#     words = remove_stopwords(words, stop_words)\n",
    "    #words = stem_words(words)# Either stem ovocar lemmatize\n",
    "#     words = lemmatize_words(words)\n",
    "#     words = lemmatize_verbs(words)\n",
    "#     print(words)\n",
    "\n",
    "    return text\n",
    "  \n",
    "def normalize_corpus(corpus):\n",
    "    return [normalize_text(t) for t in corpus]"
   ]
  },
  {
   "cell_type": "code",
   "execution_count": 53,
   "id": "e2f84a0c",
   "metadata": {},
   "outputs": [],
   "source": [
    "images_captions_df['image'] = 'F:\\\\Data_kaggle\\\\images\\\\images_normalized\\\\' + images_captions_df['image']"
   ]
  },
  {
   "cell_type": "code",
   "execution_count": 54,
   "id": "b78ebc39",
   "metadata": {},
   "outputs": [
    {
     "data": {
      "text/plain": [
       "'increased opacity within right upper lobe with possible mass associated area atelectasis or focal consolidation cardiac silhouette within normal limits opacity in left midlung overlying posterior left th rib may represent focal airspace disease no pleural effusion or pneumothorax no acute bone abnormality'"
      ]
     },
     "execution_count": 54,
     "metadata": {},
     "output_type": "execute_result"
    }
   ],
   "source": [
    "real_caption = normalize_text(\"There is XXXX increased opacity within the right upper lobe with possible mass and associated area of atelectasis or focal consolidation. The cardiac silhouette is within normal limits. XXXX opacity in the left midlung overlying the posterior left 5th rib may represent focal airspace disease. No pleural effusion or pneumothorax. No acute bone abnormality.\")\n",
    "\n",
    "real_caption"
   ]
  },
  {
   "cell_type": "code",
   "execution_count": 55,
   "id": "1a648032",
   "metadata": {},
   "outputs": [],
   "source": [
    "images_captions_df_clean = images_captions_df.copy()\n",
    "images_captions_df_clean['caption'] = images_captions_df_clean['caption'].apply(lambda x: normalize_text(x))\n"
   ]
  },
  {
   "cell_type": "code",
   "execution_count": 56,
   "id": "e1dfeda1",
   "metadata": {
    "scrolled": true
   },
   "outputs": [
    {
     "data": {
      "text/plain": [
       "'cardiac silhouette mediastinum size within normal limits no pulmonary edema no focal consolidation no pleural effusion no evidence pneumothorax normal chest'"
      ]
     },
     "execution_count": 56,
     "metadata": {},
     "output_type": "execute_result"
    }
   ],
   "source": [
    "images_captions_df_clean['caption'].iloc[0]"
   ]
  },
  {
   "cell_type": "code",
   "execution_count": 57,
   "id": "aa5653d8",
   "metadata": {},
   "outputs": [],
   "source": [
    "images_captions_df_clean.dropna(inplace=True)"
   ]
  },
  {
   "cell_type": "code",
   "execution_count": 58,
   "id": "1e68d35b",
   "metadata": {},
   "outputs": [
    {
     "data": {
      "text/plain": [
       "(7466, 4)"
      ]
     },
     "execution_count": 58,
     "metadata": {},
     "output_type": "execute_result"
    }
   ],
   "source": [
    "images_captions_df_clean.shape"
   ]
  },
  {
   "cell_type": "code",
   "execution_count": 59,
   "id": "70edbd7a",
   "metadata": {},
   "outputs": [
    {
     "data": {
      "image/png": "[encoded data removed]",
      "text/plain": [
       "<Figure size 640x480 with 1 Axes>"
      ]
     },
     "metadata": {},
     "output_type": "display_data"
    }
   ],
   "source": [
    "import pandas as pd\n",
    "import matplotlib.pyplot as plt\n",
    "\n",
    "# Assuming you already have a DataFrame named images_captions_df_clean\n",
    "# If not, you can load your data into a DataFrame\n",
    "\n",
    "# Split the 'caption' column into words and count the number of words\n",
    "word_counts = images_captions_df_clean['caption'].apply(lambda x: len(x.split()))\n",
    "\n",
    "# Create a histogram of word counts\n",
    "plt.hist(word_counts, bins=50, color='skyblue', edgecolor='black')\n",
    "plt.xlabel('Number of Words')\n",
    "plt.ylabel('Frequency')\n",
    "plt.title('Distribution of Word Counts in Captions')\n",
    "plt.grid(axis='y', linestyle='--', alpha=0.7)\n",
    "\n",
    "# Show the plot\n",
    "plt.show()\n"
   ]
  },
  {
   "cell_type": "code",
   "execution_count": 60,
   "id": "5c47ab4d",
   "metadata": {},
   "outputs": [
    {
     "data": {
      "text/plain": [
       "(7400, 4)"
      ]
     },
     "execution_count": 60,
     "metadata": {},
     "output_type": "execute_result"
    }
   ],
   "source": [
    "import pandas as pd\n",
    "\n",
    "\n",
    "images_captions_df_clean = images_captions_df_clean[images_captions_df_clean['caption'].apply(lambda x: len(x.split())) >= 4]\n",
    "\n",
    "images_captions_df_clean.reset_index(drop=True, inplace=True)\n",
    "images_captions_df_clean.shape"
   ]
  },
  {
   "cell_type": "code",
   "execution_count": null,
   "id": "1c9e9492",
   "metadata": {},
   "outputs": [],
   "source": []
  },
  {
   "cell_type": "code",
   "execution_count": null,
   "id": "b5b46da6",
   "metadata": {},
   "outputs": [],
   "source": []
  },
  {
   "cell_type": "code",
   "execution_count": 61,
   "id": "87aaa302",
   "metadata": {},
   "outputs": [],
   "source": [
    "annotations_list = []\n",
    "\n",
    "for index, row in images_captions_df_clean.iterrows():\n",
    "    annotation = {\n",
    "        'image_id': row['image'],\n",
    "        'caption': row['caption']\n",
    "    }\n",
    "    annotations_list.append(annotation)\n",
    "\n",
    "result_dict = {\n",
    "    \"annotations\": annotations_list\n",
    "}"
   ]
  },
  {
   "cell_type": "code",
   "execution_count": 62,
   "id": "839b6f29",
   "metadata": {},
   "outputs": [
    {
     "name": "stdout",
     "output_type": "stream",
     "text": [
      "JSON data saved to F:\\Data_kaggle\\images\\list_1\\filter_cap.json\n"
     ]
    }
   ],
   "source": [
    "import json\n",
    "output_json_path = r\"F:\\Data_kaggle\\images\\list_1\\filter_cap.json\"\n",
    "\n",
    "# Save the result_dict as a JSON file\n",
    "with open(output_json_path, \"w\") as json_file:\n",
    "    json.dump(result_dict, json_file)\n",
    "\n",
    "print(f\"JSON data saved to {output_json_path}\")"
   ]
  },
  {
   "cell_type": "code",
   "execution_count": null,
   "id": "936ae29d",
   "metadata": {},
   "outputs": [],
   "source": []
  },
  {
   "cell_type": "code",
   "execution_count": null,
   "id": "1a884c83",
   "metadata": {},
   "outputs": [],
   "source": []
  },
  {
   "cell_type": "code",
   "execution_count": null,
   "id": "a99c0a89",
   "metadata": {},
   "outputs": [],
   "source": [
    "\n"
   ]
  },
  {
   "cell_type": "code",
   "execution_count": null,
   "id": "59395ef5",
   "metadata": {},
   "outputs": [],
   "source": []
  }
 ],
 "metadata": {
  "kernelspec": {
   "display_name": "Python 3 (ipykernel)",
   "language": "python",
   "name": "python3"
  },
  "language_info": {
   "codemirror_mode": {
    "name": "ipython",
    "version": 3
   },
   "file_extension": ".py",
   "mimetype": "text/x-python",
   "name": "python",
   "nbconvert_exporter": "python",
   "pygments_lexer": "ipython3",
   "version": "3.9.17"
  }
 },
 "nbformat": 4,
 "nbformat_minor": 5
}
